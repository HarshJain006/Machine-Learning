{
 "cells": [
  {
   "cell_type": "code",
   "execution_count": 1,
   "id": "132712f9-bb2b-49ba-a934-6a91eb83dcb8",
   "metadata": {},
   "outputs": [],
   "source": [
    "import pandas as pd\n",
    "from sklearn.linear_model import LinearRegression, ElasticNet\n",
    "import numpy as np\n",
    "from sklearn.metrics import r2_score \n",
    "from sklearn.pipeline import Pipeline\n",
    "from sklearn.model_selection import train_test_split\n",
    "from sklearn.preprocessing import OneHotEncoder \n",
    "from sklearn.compose import make_column_transformer \n",
    "from sklearn.compose import make_column_selector\n",
    "import os\n",
    "os.chdir(r\"C:\\Training\\Kaggle\\Competitions\\Playground Competitions\\UsedCarsPrices\")"
   ]
  },
  {
   "cell_type": "code",
   "execution_count": 2,
   "id": "ee5042c5-1a52-4f48-8fda-4a0b1b1abcd5",
   "metadata": {},
   "outputs": [
    {
     "name": "stdout",
     "output_type": "stream",
     "text": [
      "<class 'pandas.core.frame.DataFrame'>\n",
      "Index: 188533 entries, 0 to 188532\n",
      "Data columns (total 12 columns):\n",
      " #   Column        Non-Null Count   Dtype \n",
      "---  ------        --------------   ----- \n",
      " 0   brand         188533 non-null  object\n",
      " 1   model         188533 non-null  object\n",
      " 2   model_year    188533 non-null  int64 \n",
      " 3   milage        188533 non-null  int64 \n",
      " 4   fuel_type     183450 non-null  object\n",
      " 5   engine        188533 non-null  object\n",
      " 6   transmission  188533 non-null  object\n",
      " 7   ext_col       188533 non-null  object\n",
      " 8   int_col       188533 non-null  object\n",
      " 9   accident      186081 non-null  object\n",
      " 10  clean_title   167114 non-null  object\n",
      " 11  price         188533 non-null  int64 \n",
      "dtypes: int64(3), object(9)\n",
      "memory usage: 18.7+ MB\n"
     ]
    }
   ],
   "source": [
    "train = pd.read_csv(\"train.csv\", index_col=0)\n",
    "train.info()"
   ]
  },
  {
   "cell_type": "code",
   "execution_count": 3,
   "id": "afa01ac9-ef0f-44f3-b41e-9c31bc4afc95",
   "metadata": {},
   "outputs": [],
   "source": [
    "X_train = train.drop('price', axis=1)\n",
    "y_train = train['price']\n",
    "ohe = OneHotEncoder(handle_unknown='infrequent_if_exist',\n",
    "      sparse_output=False,min_frequency=3000).set_output(transform='pandas')\n",
    "ct_ohe = make_column_transformer(('passthrough', make_column_selector(dtype_exclude=object)  ),\n",
    "                             (ohe, make_column_selector(dtype_include=object) ),\n",
    "                            verbose_feature_names_out=False).set_output(transform='pandas')\n",
    "X_train_ohe = ct_ohe.fit_transform(X_train)"
   ]
  },
  {
   "cell_type": "code",
   "execution_count": 4,
   "id": "7ede4cd8-9014-4281-a726-f0b2e62d3365",
   "metadata": {},
   "outputs": [
    {
     "data": {
      "text/plain": [
       "0"
      ]
     },
     "execution_count": 4,
     "metadata": {},
     "output_type": "execute_result"
    }
   ],
   "source": [
    "X_train_ohe.isnull().sum().sum()"
   ]
  },
  {
   "cell_type": "code",
   "execution_count": 5,
   "id": "0d5f15dc-5c1d-4b68-b39c-38393de79aed",
   "metadata": {},
   "outputs": [
    {
     "name": "stdout",
     "output_type": "stream",
     "text": [
      "<class 'pandas.core.frame.DataFrame'>\n",
      "Index: 125690 entries, 188533 to 314222\n",
      "Data columns (total 11 columns):\n",
      " #   Column        Non-Null Count   Dtype \n",
      "---  ------        --------------   ----- \n",
      " 0   brand         125690 non-null  object\n",
      " 1   model         125690 non-null  object\n",
      " 2   model_year    125690 non-null  int64 \n",
      " 3   milage        125690 non-null  int64 \n",
      " 4   fuel_type     122307 non-null  object\n",
      " 5   engine        125690 non-null  object\n",
      " 6   transmission  125690 non-null  object\n",
      " 7   ext_col       125690 non-null  object\n",
      " 8   int_col       125690 non-null  object\n",
      " 9   accident      124058 non-null  object\n",
      " 10  clean_title   111451 non-null  object\n",
      "dtypes: int64(2), object(9)\n",
      "memory usage: 11.5+ MB\n"
     ]
    }
   ],
   "source": [
    "X_test = pd.read_csv(\"test.csv\", index_col=0)\n",
    "X_test.info()"
   ]
  },
  {
   "cell_type": "code",
   "execution_count": 6,
   "id": "867bd272-593b-4b8a-88a7-063526a6e5d6",
   "metadata": {},
   "outputs": [
    {
     "data": {
      "text/plain": [
       "62"
      ]
     },
     "execution_count": 6,
     "metadata": {},
     "output_type": "execute_result"
    }
   ],
   "source": [
    "X_test_ohe = ct_ohe.transform(X_test)\n",
    "len(X_test_ohe.columns)"
   ]
  },
  {
   "cell_type": "code",
   "execution_count": 7,
   "id": "91626fe2-6d2b-49c8-bdcd-fe9eb6805539",
   "metadata": {},
   "outputs": [
    {
     "name": "stdout",
     "output_type": "stream",
     "text": [
      "<class 'pandas.core.frame.DataFrame'>\n",
      "Index: 125690 entries, 188533 to 314222\n",
      "Data columns (total 62 columns):\n",
      " #   Column                                               Non-Null Count   Dtype  \n",
      "---  ------                                               --------------   -----  \n",
      " 0   model_year                                           125690 non-null  int64  \n",
      " 1   milage                                               125690 non-null  int64  \n",
      " 2   brand_Audi                                           125690 non-null  float64\n",
      " 3   brand_BMW                                            125690 non-null  float64\n",
      " 4   brand_Cadillac                                       125690 non-null  float64\n",
      " 5   brand_Chevrolet                                      125690 non-null  float64\n",
      " 6   brand_Dodge                                          125690 non-null  float64\n",
      " 7   brand_Ford                                           125690 non-null  float64\n",
      " 8   brand_GMC                                            125690 non-null  float64\n",
      " 9   brand_INFINITI                                       125690 non-null  float64\n",
      " 10  brand_Jeep                                           125690 non-null  float64\n",
      " 11  brand_Land                                           125690 non-null  float64\n",
      " 12  brand_Lexus                                          125690 non-null  float64\n",
      " 13  brand_Mercedes-Benz                                  125690 non-null  float64\n",
      " 14  brand_Nissan                                         125690 non-null  float64\n",
      " 15  brand_Porsche                                        125690 non-null  float64\n",
      " 16  brand_RAM                                            125690 non-null  float64\n",
      " 17  brand_Tesla                                          125690 non-null  float64\n",
      " 18  brand_Toyota                                         125690 non-null  float64\n",
      " 19  brand_infrequent_sklearn                             125690 non-null  float64\n",
      " 20  model_infrequent_sklearn                             125690 non-null  float64\n",
      " 21  fuel_type_Diesel                                     125690 non-null  float64\n",
      " 22  fuel_type_E85 Flex Fuel                              125690 non-null  float64\n",
      " 23  fuel_type_Gasoline                                   125690 non-null  float64\n",
      " 24  fuel_type_Hybrid                                     125690 non-null  float64\n",
      " 25  fuel_type_nan                                        125690 non-null  float64\n",
      " 26  fuel_type_infrequent_sklearn                         125690 non-null  float64\n",
      " 27  engine_355.0HP 5.3L 8 Cylinder Engine Gasoline Fuel  125690 non-null  float64\n",
      " 28  engine_infrequent_sklearn                            125690 non-null  float64\n",
      " 29  transmission_10-Speed A/T                            125690 non-null  float64\n",
      " 30  transmission_10-Speed Automatic                      125690 non-null  float64\n",
      " 31  transmission_5-Speed A/T                             125690 non-null  float64\n",
      " 32  transmission_6-Speed A/T                             125690 non-null  float64\n",
      " 33  transmission_6-Speed M/T                             125690 non-null  float64\n",
      " 34  transmission_7-Speed A/T                             125690 non-null  float64\n",
      " 35  transmission_8-Speed A/T                             125690 non-null  float64\n",
      " 36  transmission_8-Speed Automatic                       125690 non-null  float64\n",
      " 37  transmission_9-Speed A/T                             125690 non-null  float64\n",
      " 38  transmission_A/T                                     125690 non-null  float64\n",
      " 39  transmission_Automatic                               125690 non-null  float64\n",
      " 40  transmission_Transmission w/Dual Shift Mode          125690 non-null  float64\n",
      " 41  transmission_infrequent_sklearn                      125690 non-null  float64\n",
      " 42  ext_col_Black                                        125690 non-null  float64\n",
      " 43  ext_col_Blue                                         125690 non-null  float64\n",
      " 44  ext_col_Gray                                         125690 non-null  float64\n",
      " 45  ext_col_Red                                          125690 non-null  float64\n",
      " 46  ext_col_Silver                                       125690 non-null  float64\n",
      " 47  ext_col_White                                        125690 non-null  float64\n",
      " 48  ext_col_infrequent_sklearn                           125690 non-null  float64\n",
      " 49  int_col_Beige                                        125690 non-null  float64\n",
      " 50  int_col_Black                                        125690 non-null  float64\n",
      " 51  int_col_Brown                                        125690 non-null  float64\n",
      " 52  int_col_Gray                                         125690 non-null  float64\n",
      " 53  int_col_Red                                          125690 non-null  float64\n",
      " 54  int_col_White                                        125690 non-null  float64\n",
      " 55  int_col_–                                            125690 non-null  float64\n",
      " 56  int_col_infrequent_sklearn                           125690 non-null  float64\n",
      " 57  accident_At least 1 accident or damage reported      125690 non-null  float64\n",
      " 58  accident_None reported                               125690 non-null  float64\n",
      " 59  accident_infrequent_sklearn                          125690 non-null  float64\n",
      " 60  clean_title_Yes                                      125690 non-null  float64\n",
      " 61  clean_title_nan                                      125690 non-null  float64\n",
      "dtypes: float64(60), int64(2)\n",
      "memory usage: 60.4 MB\n"
     ]
    }
   ],
   "source": [
    "X_test_ohe.info()"
   ]
  },
  {
   "cell_type": "code",
   "execution_count": 8,
   "id": "ed01c3a3-432d-46b2-92dd-7f3aa136cf2c",
   "metadata": {},
   "outputs": [
    {
     "data": {
      "text/plain": [
       "62"
      ]
     },
     "execution_count": 8,
     "metadata": {},
     "output_type": "execute_result"
    }
   ],
   "source": [
    "len(X_train_ohe.columns)"
   ]
  },
  {
   "cell_type": "code",
   "execution_count": 9,
   "id": "200dcb5f-a8e0-4b67-b8aa-3a014424688a",
   "metadata": {},
   "outputs": [],
   "source": [
    "lr = LinearRegression()\n",
    "lr.fit(X_train_ohe, y_train)\n",
    "y_pred = lr.predict(X_test_ohe)"
   ]
  },
  {
   "cell_type": "code",
   "execution_count": 10,
   "id": "3550f81e-ae9e-4b36-8cdf-29a2b1807eb9",
   "metadata": {},
   "outputs": [],
   "source": [
    "y_pred[y_pred<150] = 150"
   ]
  },
  {
   "cell_type": "code",
   "execution_count": 11,
   "id": "304b157f-1c23-4fbd-9440-be31e7b4ce32",
   "metadata": {},
   "outputs": [
    {
     "data": {
      "text/plain": [
       "array([   150.        ,  27161.03702497,  46878.36539031,  62641.23550645,\n",
       "       109878.76745113])"
      ]
     },
     "execution_count": 11,
     "metadata": {},
     "output_type": "execute_result"
    }
   ],
   "source": [
    "np.quantile(y_pred,[0,0.25,0.5,0.75,1])"
   ]
  },
  {
   "cell_type": "code",
   "execution_count": 12,
   "id": "57c7719a-fb14-4b3a-adb8-1f2e79fc027c",
   "metadata": {},
   "outputs": [],
   "source": [
    "submit = pd.read_csv(\"sample_submission.csv\")\n",
    "submit['price'] = y_pred\n",
    "submit.to_csv(\"ss_5_nov_1_lr.csv\", index=False)"
   ]
  }
 ],
 "metadata": {
  "kernelspec": {
   "display_name": "Python 3 (ipykernel)",
   "language": "python",
   "name": "python3"
  },
  "language_info": {
   "codemirror_mode": {
    "name": "ipython",
    "version": 3
   },
   "file_extension": ".py",
   "mimetype": "text/x-python",
   "name": "python",
   "nbconvert_exporter": "python",
   "pygments_lexer": "ipython3",
   "version": "3.12.4"
  }
 },
 "nbformat": 4,
 "nbformat_minor": 5
}
