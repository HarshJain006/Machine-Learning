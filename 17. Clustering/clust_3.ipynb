{
 "cells": [
  {
   "cell_type": "code",
   "execution_count": 1,
   "id": "c5cdbe1e-8365-4401-8f69-7cbf5ec4b08f",
   "metadata": {},
   "outputs": [],
   "source": [
    "import numpy as np\n",
    "from sklearn.metrics import silhouette_score\n",
    "import pandas as pd\n",
    "import matplotlib.pyplot as plt\n",
    "from sklearn.preprocessing import StandardScaler\n",
    "import seaborn as sns\n",
    "import os\n",
    "os.chdir(r\"C:\\Training\\Academy\\Statistics (Python)\\Datasets\")\n",
    "from sklearn.cluster import KMeans"
   ]
  },
  {
   "cell_type": "code",
   "execution_count": 2,
   "id": "946319e6-ee46-426f-bec0-8d64208a16af",
   "metadata": {},
   "outputs": [
    {
     "name": "stdout",
     "output_type": "stream",
     "text": [
      "[0.5258508931703421, 0.48757649189546187, 0.44348050284244644, 0.39423075374986555, 0.3948525867678605]\n",
      "Best no. of Clusters: 2\n"
     ]
    },
    {
     "name": "stderr",
     "output_type": "stream",
     "text": [
      "C:\\Python\\anaconda3\\Lib\\site-packages\\sklearn\\cluster\\_kmeans.py:1429: UserWarning: KMeans is known to have a memory leak on Windows with MKL, when there are less chunks than available threads. You can avoid it by setting the environment variable OMP_NUM_THREADS=1.\n",
      "  warnings.warn(\n",
      "C:\\Python\\anaconda3\\Lib\\site-packages\\sklearn\\cluster\\_kmeans.py:1429: UserWarning: KMeans is known to have a memory leak on Windows with MKL, when there are less chunks than available threads. You can avoid it by setting the environment variable OMP_NUM_THREADS=1.\n",
      "  warnings.warn(\n",
      "C:\\Python\\anaconda3\\Lib\\site-packages\\sklearn\\cluster\\_kmeans.py:1429: UserWarning: KMeans is known to have a memory leak on Windows with MKL, when there are less chunks than available threads. You can avoid it by setting the environment variable OMP_NUM_THREADS=1.\n",
      "  warnings.warn(\n",
      "C:\\Python\\anaconda3\\Lib\\site-packages\\sklearn\\cluster\\_kmeans.py:1429: UserWarning: KMeans is known to have a memory leak on Windows with MKL, when there are less chunks than available threads. You can avoid it by setting the environment variable OMP_NUM_THREADS=1.\n",
      "  warnings.warn(\n",
      "C:\\Python\\anaconda3\\Lib\\site-packages\\sklearn\\cluster\\_kmeans.py:1429: UserWarning: KMeans is known to have a memory leak on Windows with MKL, when there are less chunks than available threads. You can avoid it by setting the environment variable OMP_NUM_THREADS=1.\n",
      "  warnings.warn(\n"
     ]
    }
   ],
   "source": [
    "milk = pd.read_csv(\"milk.csv\",index_col=0)\n",
    "scaler = StandardScaler().set_output(transform='pandas')\n",
    "milk_scaled = scaler.fit_transform(milk)\n",
    "scores = []\n",
    "n_clust = [2,3,4,5,6]\n",
    "for i in n_clust:\n",
    "    clust = KMeans(n_clusters=i, random_state=24)\n",
    "    clust.fit(milk_scaled)\n",
    "    scores.append(silhouette_score(milk_scaled, clust.labels_))\n",
    "print(scores)\n",
    "i_max = np.argmax(scores)\n",
    "print(\"Best no. of Clusters:\", n_clust[i_max])"
   ]
  },
  {
   "cell_type": "code",
   "execution_count": 3,
   "id": "cf2c6bc5-78ea-47ec-afa2-863911fd2bce",
   "metadata": {},
   "outputs": [
    {
     "name": "stderr",
     "output_type": "stream",
     "text": [
      "C:\\Python\\anaconda3\\Lib\\site-packages\\sklearn\\cluster\\_kmeans.py:1429: UserWarning: KMeans is known to have a memory leak on Windows with MKL, when there are less chunks than available threads. You can avoid it by setting the environment variable OMP_NUM_THREADS=1.\n",
      "  warnings.warn(\n"
     ]
    },
    {
     "data": {
      "text/plain": [
       "0.48757649189546187"
      ]
     },
     "execution_count": 3,
     "metadata": {},
     "output_type": "execute_result"
    }
   ],
   "source": [
    "clust = KMeans(n_clusters=3, random_state=24)\n",
    "clust.fit(milk_scaled)\n",
    "silhouette_score(milk_scaled, clust.labels_)"
   ]
  },
  {
   "cell_type": "markdown",
   "id": "789eb2a3-4727-48a2-8f48-0dd40af8ccd0",
   "metadata": {},
   "source": [
    "## RFM "
   ]
  },
  {
   "cell_type": "code",
   "execution_count": 5,
   "id": "9dccb4e8-c180-4833-81a0-a681e90bf679",
   "metadata": {},
   "outputs": [
    {
     "data": {
      "text/html": [
       "<div>\n",
       "<style scoped>\n",
       "    .dataframe tbody tr th:only-of-type {\n",
       "        vertical-align: middle;\n",
       "    }\n",
       "\n",
       "    .dataframe tbody tr th {\n",
       "        vertical-align: top;\n",
       "    }\n",
       "\n",
       "    .dataframe thead th {\n",
       "        text-align: right;\n",
       "    }\n",
       "</style>\n",
       "<table border=\"1\" class=\"dataframe\">\n",
       "  <thead>\n",
       "    <tr style=\"text-align: right;\">\n",
       "      <th></th>\n",
       "      <th>revenue</th>\n",
       "      <th>number_of_orders</th>\n",
       "      <th>recency_days</th>\n",
       "    </tr>\n",
       "    <tr>\n",
       "      <th>customer_id</th>\n",
       "      <th></th>\n",
       "      <th></th>\n",
       "      <th></th>\n",
       "    </tr>\n",
       "  </thead>\n",
       "  <tbody>\n",
       "    <tr>\n",
       "      <th>22086</th>\n",
       "      <td>777</td>\n",
       "      <td>9</td>\n",
       "      <td>232</td>\n",
       "    </tr>\n",
       "    <tr>\n",
       "      <th>2290</th>\n",
       "      <td>1555</td>\n",
       "      <td>16</td>\n",
       "      <td>115</td>\n",
       "    </tr>\n",
       "  </tbody>\n",
       "</table>\n",
       "</div>"
      ],
      "text/plain": [
       "             revenue  number_of_orders  recency_days\n",
       "customer_id                                         \n",
       "22086            777                 9           232\n",
       "2290            1555                16           115"
      ]
     },
     "execution_count": 5,
     "metadata": {},
     "output_type": "execute_result"
    }
   ],
   "source": [
    "rfm = pd.read_csv(r\"C:\\Training\\Academy\\Statistics (Python)\\Cases\\Recency Frequency Monetary\\rfm_data_customer.csv\",\n",
    "                 index_col=0)\n",
    "rfm.drop('most_recent_visit', axis=1, inplace=True)\n",
    "rfm.head(2)"
   ]
  },
  {
   "cell_type": "code",
   "execution_count": 6,
   "id": "adddc29f-8ca5-47ea-ab14-aba4c0b21dcf",
   "metadata": {},
   "outputs": [],
   "source": [
    "scaler = StandardScaler().set_output(transform='pandas')\n",
    "rfm_scaled = scaler.fit_transform(rfm)\n",
    "scores = []\n",
    "n_clust = [2,3,4,5,6]"
   ]
  },
  {
   "cell_type": "code",
   "execution_count": 7,
   "id": "e9243763-1fd9-4713-9a09-7ca3d679ad1c",
   "metadata": {},
   "outputs": [
    {
     "name": "stderr",
     "output_type": "stream",
     "text": [
      "                                                                                                                       \r"
     ]
    }
   ],
   "source": [
    "from tqdm import tqdm\n",
    "scores = []\n",
    "for i in tqdm(range(2,7), total=5, leave=False):\n",
    "    clust = KMeans(n_clusters=i, random_state=24)\n",
    "    clust.fit(rfm_scaled)\n",
    "    scores.append(silhouette_score(rfm_scaled, clust.labels_))"
   ]
  },
  {
   "cell_type": "code",
   "execution_count": 8,
   "id": "5a619043-85d4-44e4-8052-05de26fa74de",
   "metadata": {},
   "outputs": [
    {
     "name": "stdout",
     "output_type": "stream",
     "text": [
      "Best no. of Clusters: 3\n"
     ]
    }
   ],
   "source": [
    "i_max = np.argmax(scores)\n",
    "print(\"Best no. of Clusters:\", n_clust[i_max])"
   ]
  },
  {
   "cell_type": "code",
   "execution_count": 9,
   "id": "09a561e2-4a8f-45bf-bada-ee66eaa3d7a9",
   "metadata": {},
   "outputs": [
    {
     "data": {
      "text/plain": [
       "[0.3619175885782477,\n",
       " 0.37102897041720206,\n",
       " 0.3229983236688364,\n",
       " 0.3249751004529168,\n",
       " 0.288058231818753]"
      ]
     },
     "execution_count": 9,
     "metadata": {},
     "output_type": "execute_result"
    }
   ],
   "source": [
    "scores"
   ]
  },
  {
   "cell_type": "markdown",
   "id": "42f9e06e-766d-41c3-b1a1-3e03dc5a34fe",
   "metadata": {},
   "source": [
    "### Cluster Analysis"
   ]
  },
  {
   "cell_type": "code",
   "execution_count": 11,
   "id": "4e0a75da-82a3-475c-95ef-120c7a5cda72",
   "metadata": {},
   "outputs": [
    {
     "data": {
      "text/plain": [
       "0.37102897041720206"
      ]
     },
     "execution_count": 11,
     "metadata": {},
     "output_type": "execute_result"
    }
   ],
   "source": [
    "clust = KMeans(n_clusters=3, random_state=24)\n",
    "clust.fit(rfm_scaled)\n",
    "silhouette_score(rfm_scaled, clust.labels_)"
   ]
  },
  {
   "cell_type": "code",
   "execution_count": 12,
   "id": "2343e568-d5f1-4564-bb5b-8764b320a1e0",
   "metadata": {},
   "outputs": [
    {
     "data": {
      "text/html": [
       "<div>\n",
       "<style scoped>\n",
       "    .dataframe tbody tr th:only-of-type {\n",
       "        vertical-align: middle;\n",
       "    }\n",
       "\n",
       "    .dataframe tbody tr th {\n",
       "        vertical-align: top;\n",
       "    }\n",
       "\n",
       "    .dataframe thead th {\n",
       "        text-align: right;\n",
       "    }\n",
       "</style>\n",
       "<table border=\"1\" class=\"dataframe\">\n",
       "  <thead>\n",
       "    <tr style=\"text-align: right;\">\n",
       "      <th></th>\n",
       "      <th>revenue</th>\n",
       "      <th>number_of_orders</th>\n",
       "      <th>recency_days</th>\n",
       "    </tr>\n",
       "    <tr>\n",
       "      <th>cluster</th>\n",
       "      <th></th>\n",
       "      <th></th>\n",
       "      <th></th>\n",
       "    </tr>\n",
       "  </thead>\n",
       "  <tbody>\n",
       "    <tr>\n",
       "      <th>0</th>\n",
       "      <td>1281.119459</td>\n",
       "      <td>12.909267</td>\n",
       "      <td>133.255123</td>\n",
       "    </tr>\n",
       "    <tr>\n",
       "      <th>1</th>\n",
       "      <td>749.292247</td>\n",
       "      <td>8.227773</td>\n",
       "      <td>136.139784</td>\n",
       "    </tr>\n",
       "    <tr>\n",
       "      <th>2</th>\n",
       "      <td>692.414498</td>\n",
       "      <td>7.351090</td>\n",
       "      <td>416.697185</td>\n",
       "    </tr>\n",
       "  </tbody>\n",
       "</table>\n",
       "</div>"
      ],
      "text/plain": [
       "             revenue  number_of_orders  recency_days\n",
       "cluster                                             \n",
       "0        1281.119459         12.909267    133.255123\n",
       "1         749.292247          8.227773    136.139784\n",
       "2         692.414498          7.351090    416.697185"
      ]
     },
     "execution_count": 12,
     "metadata": {},
     "output_type": "execute_result"
    }
   ],
   "source": [
    "rfm_clust = rfm.copy()\n",
    "rfm_clust['cluster'] = clust.labels_\n",
    "rfm_clust.groupby('cluster').mean()"
   ]
  },
  {
   "cell_type": "code",
   "execution_count": 13,
   "id": "2849443a-93c6-4ebe-a9ec-f15caf2dc30a",
   "metadata": {},
   "outputs": [
    {
     "data": {
      "text/plain": [
       "39999"
      ]
     },
     "execution_count": 13,
     "metadata": {},
     "output_type": "execute_result"
    }
   ],
   "source": [
    "rfm.shape[0]"
   ]
  }
 ],
 "metadata": {
  "kernelspec": {
   "display_name": "Python 3 (ipykernel)",
   "language": "python",
   "name": "python3"
  },
  "language_info": {
   "codemirror_mode": {
    "name": "ipython",
    "version": 3
   },
   "file_extension": ".py",
   "mimetype": "text/x-python",
   "name": "python",
   "nbconvert_exporter": "python",
   "pygments_lexer": "ipython3",
   "version": "3.12.4"
  }
 },
 "nbformat": 4,
 "nbformat_minor": 5
}
