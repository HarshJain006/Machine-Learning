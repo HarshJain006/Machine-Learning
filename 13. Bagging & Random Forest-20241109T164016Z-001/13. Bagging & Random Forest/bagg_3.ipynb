{
 "cells": [
  {
   "cell_type": "code",
   "execution_count": 1,
   "id": "c4e25e41-413e-4df5-b51e-60c728489cf3",
   "metadata": {},
   "outputs": [],
   "source": [
    "from sklearn.ensemble import BaggingClassifier\n",
    "import numpy as np\n",
    "import pandas as pd\n",
    "import matplotlib.pyplot as plt \n",
    "import seaborn as sns\n",
    "from sklearn.tree import DecisionTreeClassifier\n",
    "from sklearn.linear_model import LogisticRegression \n",
    "from sklearn.svm import SVC\n",
    "from sklearn.model_selection import StratifiedKFold, GridSearchCV\n",
    "from sklearn.preprocessing import OneHotEncoder\n",
    "from sklearn.pipeline import Pipeline\n",
    "from sklearn.metrics import accuracy_score, roc_auc_score\n",
    "from sklearn.model_selection import train_test_split\n",
    "from sklearn.compose import make_column_transformer \n",
    "from sklearn.compose import make_column_selector\n",
    "import warnings"
   ]
  },
  {
   "cell_type": "code",
   "execution_count": 3,
   "id": "7edacd39-a578-4cbc-b342-186f8dd522fc",
   "metadata": {},
   "outputs": [],
   "source": [
    "import os\n",
    "os.chdir(r\"C:\\Training\\Kaggle\\Competitions\\Playground Competitions\\Smoker Biosignals\")"
   ]
  },
  {
   "cell_type": "code",
   "execution_count": 9,
   "id": "b87b3643-42af-4379-be3a-c30c9d146cd9",
   "metadata": {},
   "outputs": [],
   "source": [
    "train = pd.read_csv(\"train.csv\", index_col=0)\n",
    "test = pd.read_csv(\"test.csv\", index_col=0) "
   ]
  },
  {
   "cell_type": "code",
   "execution_count": 17,
   "id": "b3db1065-b9fd-450a-8c94-418d12d7c7d5",
   "metadata": {},
   "outputs": [],
   "source": [
    "y_train = train['smoking']\n",
    "X_train = train.drop('smoking', axis=1)"
   ]
  },
  {
   "cell_type": "code",
   "execution_count": 19,
   "id": "c5b21c94-a539-4e54-9de7-0ee4234fd463",
   "metadata": {},
   "outputs": [],
   "source": [
    "lr = LogisticRegression(random_state=24)\n",
    "svm = SVC(probability=True, random_state=24)\n",
    "dtc = DecisionTreeClassifier(random_state=24)\n",
    "bagg = BaggingClassifier(random_state=24)"
   ]
  },
  {
   "cell_type": "code",
   "execution_count": null,
   "id": "b8855fa7-beaa-40a8-9de1-8b009d9fc61d",
   "metadata": {},
   "outputs": [],
   "source": [
    "kfold = StratifiedKFold(n_splits=5, shuffle=True, random_state=24)\n",
    "params = {'estimator':[lr, svm, dtc] }\n",
    "gcv = GridSearchCV(bagg, param_grid=params, cv=kfold, scoring='neg_log_loss')\n",
    "with warnings.catch_warnings():\n",
    "    warnings.simplefilter(\"ignore\")\n",
    "    gcv.fit(X, y)"
   ]
  },
  {
   "cell_type": "code",
   "execution_count": null,
   "id": "388f6058-24f0-4d8f-993f-6c3bff7aa8ee",
   "metadata": {},
   "outputs": [],
   "source": [
    "print(gcv.best_params_)\n",
    "print(gcv.best_score_)"
   ]
  },
  {
   "cell_type": "code",
   "execution_count": null,
   "id": "71542a5a-9410-4eb9-b53e-d415f6efbe91",
   "metadata": {},
   "outputs": [],
   "source": []
  }
 ],
 "metadata": {
  "kernelspec": {
   "display_name": "Python 3 (ipykernel)",
   "language": "python",
   "name": "python3"
  },
  "language_info": {
   "codemirror_mode": {
    "name": "ipython",
    "version": 3
   },
   "file_extension": ".py",
   "mimetype": "text/x-python",
   "name": "python",
   "nbconvert_exporter": "python",
   "pygments_lexer": "ipython3",
   "version": "3.12.4"
  }
 },
 "nbformat": 4,
 "nbformat_minor": 5
}
