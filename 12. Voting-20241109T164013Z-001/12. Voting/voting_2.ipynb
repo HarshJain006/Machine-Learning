{
 "cells": [
  {
   "cell_type": "markdown",
   "id": "a33c883a-b70f-4a93-8500-595bf8982d0b",
   "metadata": {},
   "source": [
    "## Concrete Strength"
   ]
  },
  {
   "cell_type": "code",
   "execution_count": 6,
   "id": "82aea693-c7dd-4967-b8fb-cc7c1edf26d1",
   "metadata": {},
   "outputs": [],
   "source": [
    "import numpy as np\n",
    "import pandas as pd\n",
    "import matplotlib.pyplot as plt \n",
    "import seaborn as sns\n",
    "from sklearn.tree import DecisionTreeRegressor\n",
    "from sklearn.linear_model import LinearRegression, ElasticNet\n",
    "from sklearn.ensemble import VotingRegressor\n",
    "from sklearn.model_selection import train_test_split,KFold, GridSearchCV\n",
    "from sklearn.metrics import r2_score\n",
    "import os\n",
    "os.chdir(r\"C:\\Training\\Academy\\Statistics (Python)\\Cases\\Concrete Strength\")"
   ]
  },
  {
   "cell_type": "code",
   "execution_count": 8,
   "id": "31c9f2c3-97fe-4c04-965b-9421c0a79c8b",
   "metadata": {},
   "outputs": [],
   "source": [
    "concrete = pd.read_csv(\"Concrete_Data.csv\")\n",
    "X = concrete.drop('Strength', axis=1)\n",
    "y = concrete['Strength']\n",
    "X_train, X_test, y_train, y_test = train_test_split(X, y,test_size=0.3,random_state=24)"
   ]
  },
  {
   "cell_type": "code",
   "execution_count": 16,
   "id": "eea0dcdd-e9a6-47d8-bad4-5c02720db1d8",
   "metadata": {},
   "outputs": [
    {
     "name": "stdout",
     "output_type": "stream",
     "text": [
      "0.5771752777048792\n"
     ]
    }
   ],
   "source": [
    "lr = LinearRegression()\n",
    "lr.fit(X_train, y_train)\n",
    "y_pred = lr.predict(X_test)\n",
    "r2_lr = r2_score(y_test, y_pred)\n",
    "print(r2_lr)"
   ]
  },
  {
   "cell_type": "code",
   "execution_count": 18,
   "id": "8fe299e4-5799-4f3f-acc2-20b33a025f2c",
   "metadata": {},
   "outputs": [
    {
     "name": "stdout",
     "output_type": "stream",
     "text": [
      "0.5766806310401154\n"
     ]
    }
   ],
   "source": [
    "el = ElasticNet()\n",
    "el.fit(X_train, y_train)\n",
    "y_pred = el.predict(X_test)\n",
    "r2_el = r2_score(y_test, y_pred)\n",
    "print(r2_el)"
   ]
  },
  {
   "cell_type": "code",
   "execution_count": 20,
   "id": "eb659409-e70c-4d11-b375-efde238fad26",
   "metadata": {},
   "outputs": [
    {
     "name": "stdout",
     "output_type": "stream",
     "text": [
      "0.83089474226832\n"
     ]
    }
   ],
   "source": [
    "dtr = DecisionTreeRegressor(random_state=24)\n",
    "dtr.fit(X_train, y_train)\n",
    "y_pred = dtr.predict(X_test)\n",
    "r2_dtr = r2_score(y_test, y_pred)\n",
    "print(r2_dtr)"
   ]
  },
  {
   "cell_type": "code",
   "execution_count": 22,
   "id": "75913cf3-ae56-4633-9f4c-a27373881cd1",
   "metadata": {},
   "outputs": [
    {
     "data": {
      "text/plain": [
       "0.7641542071921111"
      ]
     },
     "execution_count": 22,
     "metadata": {},
     "output_type": "execute_result"
    }
   ],
   "source": [
    "voting = VotingRegressor([('LR',lr),('EL',el),('DT',dtr)])\n",
    "voting.fit(X_train, y_train)\n",
    "y_pred = voting.predict(X_test)\n",
    "r2_score(y_test, y_pred)"
   ]
  },
  {
   "cell_type": "markdown",
   "id": "36f42358-0c0a-4926-a367-95063be86836",
   "metadata": {},
   "source": [
    "**Weighted Average**"
   ]
  },
  {
   "cell_type": "code",
   "execution_count": 27,
   "id": "763b0b62-b64c-4871-87ae-1a90563030af",
   "metadata": {},
   "outputs": [
    {
     "data": {
      "text/plain": [
       "0.851627386265932"
      ]
     },
     "execution_count": 27,
     "metadata": {},
     "output_type": "execute_result"
    }
   ],
   "source": [
    "voting = VotingRegressor([('LR',lr),('EL',el),('DT',dtr)],\n",
    "                        weights=[0.15, 0.15, 0.7])\n",
    "voting.fit(X_train, y_train)\n",
    "y_pred = voting.predict(X_test)\n",
    "r2_score(y_test, y_pred)"
   ]
  },
  {
   "cell_type": "markdown",
   "id": "b2545494-b560-498a-9ef8-a5cd87da297d",
   "metadata": {},
   "source": [
    "OR"
   ]
  },
  {
   "cell_type": "code",
   "execution_count": 32,
   "id": "7f3b46eb-f9bb-45c6-a4ff-256915b8300a",
   "metadata": {},
   "outputs": [
    {
     "data": {
      "text/plain": [
       "0.7955821089551822"
      ]
     },
     "execution_count": 32,
     "metadata": {},
     "output_type": "execute_result"
    }
   ],
   "source": [
    "voting = VotingRegressor([('LR',lr),('EL',el),('DT',dtr)],\n",
    "                        weights=[r2_lr, r2_el, r2_dtr])\n",
    "voting.fit(X_train, y_train)\n",
    "y_pred = voting.predict(X_test)\n",
    "r2_score(y_test, y_pred)"
   ]
  },
  {
   "cell_type": "markdown",
   "id": "a98c22e7-abf9-45b9-8cb1-b34838365558",
   "metadata": {},
   "source": [
    "Voting using `estimators` of same algorithm"
   ]
  },
  {
   "cell_type": "code",
   "execution_count": 39,
   "id": "2e4f8930-b106-4a9f-bb30-ba5fd1de7436",
   "metadata": {},
   "outputs": [
    {
     "data": {
      "text/plain": [
       "0.8436797107172187"
      ]
     },
     "execution_count": 39,
     "metadata": {},
     "output_type": "execute_result"
    }
   ],
   "source": [
    "dtr1 = DecisionTreeRegressor(random_state=24, max_depth=None)\n",
    "dtr2 = DecisionTreeRegressor(random_state=24, max_depth=3)\n",
    "dtr3 = DecisionTreeRegressor(random_state=24, max_depth=4)\n",
    "voting = VotingRegressor([('M1',dtr1),('M2',dtr2),('M3',dtr3)],\n",
    "                        weights=[0.7, 0.15, 0.15])\n",
    "voting.fit(X_train, y_train)\n",
    "y_pred = voting.predict(X_test)\n",
    "r2_score(y_test, y_pred)"
   ]
  },
  {
   "cell_type": "markdown",
   "id": "37803783-19f1-4686-8bcc-09856ad342bc",
   "metadata": {},
   "source": [
    "## Medical Cost Expenses"
   ]
  },
  {
   "cell_type": "code",
   "execution_count": 43,
   "id": "6eaee5c1-9b9c-4aba-a641-70bb35b99c58",
   "metadata": {},
   "outputs": [],
   "source": [
    "from sklearn.preprocessing import OneHotEncoder\n",
    "from sklearn.pipeline import Pipeline\n",
    "from sklearn.compose import make_column_transformer \n",
    "from sklearn.compose import make_column_selector"
   ]
  },
  {
   "cell_type": "code",
   "execution_count": 49,
   "id": "50e98ea2-2816-4ef5-ba23-0b97d6b87981",
   "metadata": {},
   "outputs": [],
   "source": [
    "os.chdir(r\"C:\\Training\\Academy\\Statistics (Python)\\Cases\\Medical Cost Personal\")\n",
    "med = pd.read_csv(\"insurance.csv\")\n",
    "X = med.drop('charges', axis=1)\n",
    "y = med['charges']\n",
    "X_train, X_test, y_train, y_test = train_test_split(X, y,test_size=0.3,random_state=24)"
   ]
  },
  {
   "cell_type": "code",
   "execution_count": 57,
   "id": "dee831ec-7469-4a04-a9d8-f59e3a619096",
   "metadata": {},
   "outputs": [],
   "source": [
    "ohe = OneHotEncoder(handle_unknown='ignore')\n",
    "ct = make_column_transformer(('passthrough', make_column_selector(dtype_exclude=object)  ),\n",
    "                             (ohe, make_column_selector(dtype_include=object) ),\n",
    "                            verbose_feature_names_out=False)\n",
    "dtr = DecisionTreeRegressor(random_state=24)\n",
    "pipe_dtr = Pipeline([('CT',ct),('DT',dtr)])\n",
    "lr = LinearRegression()\n",
    "pipe_lr = Pipeline([('CT',ct),('LR',lr)])\n",
    "el = ElasticNet()\n",
    "pipe_el = Pipeline([('CT',ct),('EL',el)])"
   ]
  },
  {
   "cell_type": "code",
   "execution_count": 59,
   "id": "3b11a456-e408-40be-956f-18848a3cb142",
   "metadata": {},
   "outputs": [
    {
     "name": "stdout",
     "output_type": "stream",
     "text": [
      "0.7665391799816872\n"
     ]
    }
   ],
   "source": [
    "pipe_lr.fit(X_train, y_train)\n",
    "y_pred = pipe_lr.predict(X_test)\n",
    "print(r2_score(y_test, y_pred))"
   ]
  },
  {
   "cell_type": "code",
   "execution_count": 61,
   "id": "0f9219c2-6d57-444e-bc33-f7b4151fadbd",
   "metadata": {},
   "outputs": [
    {
     "name": "stdout",
     "output_type": "stream",
     "text": [
      "0.49673651151300835\n"
     ]
    }
   ],
   "source": [
    "pipe_el.fit(X_train, y_train)\n",
    "y_pred = pipe_el.predict(X_test)\n",
    "print(r2_score(y_test, y_pred))"
   ]
  },
  {
   "cell_type": "code",
   "execution_count": 63,
   "id": "37cfe161-98c2-48c3-9143-7a24655bf30d",
   "metadata": {},
   "outputs": [
    {
     "name": "stdout",
     "output_type": "stream",
     "text": [
      "0.7073555236369116\n"
     ]
    }
   ],
   "source": [
    "pipe_dtr.fit(X_train, y_train)\n",
    "y_pred = pipe_dtr.predict(X_test)\n",
    "print(r2_score(y_test, y_pred))"
   ]
  },
  {
   "cell_type": "code",
   "execution_count": 67,
   "id": "49e37fc3-f67d-4b0a-ad8d-286b06422041",
   "metadata": {},
   "outputs": [
    {
     "name": "stdout",
     "output_type": "stream",
     "text": [
      "0.7702125264403765\n"
     ]
    }
   ],
   "source": [
    "voting = VotingRegressor([('LR',pipe_lr),('EL',pipe_el),('DT',pipe_dtr)])\n",
    "voting.fit(X_train, y_train)\n",
    "y_pred = voting.predict(X_test)\n",
    "print(r2_score(y_test, y_pred))"
   ]
  },
  {
   "cell_type": "markdown",
   "id": "525f7549-72b2-4402-a0a8-c4b4b5784697",
   "metadata": {},
   "source": [
    "Weighted Average"
   ]
  },
  {
   "cell_type": "code",
   "execution_count": 72,
   "id": "de36b372-afb6-4409-bb66-6b299aad43f7",
   "metadata": {},
   "outputs": [
    {
     "name": "stdout",
     "output_type": "stream",
     "text": [
      "0.79295229109966\n"
     ]
    }
   ],
   "source": [
    "voting = VotingRegressor([('LR',pipe_lr),('EL',pipe_el),('DT',pipe_dtr)],\n",
    "                         weights=[4, 2, 4])\n",
    "voting.fit(X_train, y_train)\n",
    "y_pred = voting.predict(X_test)\n",
    "print(r2_score(y_test, y_pred))"
   ]
  }
 ],
 "metadata": {
  "kernelspec": {
   "display_name": "Python 3 (ipykernel)",
   "language": "python",
   "name": "python3"
  },
  "language_info": {
   "codemirror_mode": {
    "name": "ipython",
    "version": 3
   },
   "file_extension": ".py",
   "mimetype": "text/x-python",
   "name": "python",
   "nbconvert_exporter": "python",
   "pygments_lexer": "ipython3",
   "version": "3.12.4"
  }
 },
 "nbformat": 4,
 "nbformat_minor": 5
}
