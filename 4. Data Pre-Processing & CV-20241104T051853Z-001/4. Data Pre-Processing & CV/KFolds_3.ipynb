{
 "cells": [
  {
   "cell_type": "code",
   "execution_count": 6,
   "id": "f8299bcb-2eeb-4ad8-84a9-e39fd2e67f9b",
   "metadata": {},
   "outputs": [],
   "source": [
    "import pandas as pd\n",
    "import pandas as pd\n",
    "from sklearn.linear_model import ElasticNet, LinearRegression\n",
    "import numpy as np\n",
    "from sklearn.impute import SimpleImputer\n",
    "from sklearn.pipeline import Pipeline\n",
    "from sklearn.model_selection import KFold, cross_val_score, GridSearchCV\n",
    "from sklearn.preprocessing import OneHotEncoder \n",
    "from sklearn.compose import make_column_transformer \n",
    "from sklearn.compose import make_column_selector"
   ]
  },
  {
   "cell_type": "code",
   "execution_count": 4,
   "id": "2aeeb341-7a0c-40ba-812a-419c9307d329",
   "metadata": {},
   "outputs": [],
   "source": [
    "housing = pd.read_csv(\"C:/Python/Datasets/Housing.csv\")\n",
    "X = housing.drop('price', axis=1)\n",
    "y = housing['price']"
   ]
  },
  {
   "cell_type": "code",
   "execution_count": 10,
   "id": "79bc410f-3965-4d1f-96db-4b81103c30cc",
   "metadata": {},
   "outputs": [],
   "source": [
    "ohe = OneHotEncoder(sparse_output=False, drop='first')\n",
    "ct = make_column_transformer(('passthrough', make_column_selector(dtype_exclude=object)  ),\n",
    "                             (ohe, make_column_selector(dtype_include=object) ),\n",
    "                            verbose_feature_names_out=False).set_output(transform='pandas')\n",
    "elastic = ElasticNet()\n",
    "pipe = Pipeline([('CT',ct),('EL',elastic)])"
   ]
  },
  {
   "cell_type": "code",
   "execution_count": null,
   "id": "f1011456-2be7-4298-800d-079a77e3172d",
   "metadata": {},
   "outputs": [],
   "source": [
    "params = {'EL__alpha':np.linspace(0.0001, 10, 20),'EL__l1_ratio':np.linspace(0.0001, 1, 10)}\n",
    "gcv_el = GridSearchCV(pipe, param_grid=params, verbose=3)\n",
    "gcv_el.fit(X,y)"
   ]
  },
  {
   "cell_type": "code",
   "execution_count": 29,
   "id": "a8fbdd0e-93cb-42a5-a172-5d320189227f",
   "metadata": {},
   "outputs": [
    {
     "name": "stdout",
     "output_type": "stream",
     "text": [
      "Best Params: {'EL__alpha': 10.0, 'EL__l1_ratio': 1.0}\n",
      "Best Score: 0.5084207009081492\n"
     ]
    }
   ],
   "source": [
    "print(\"Best Params:\", gcv_el.best_params_)\n",
    "print(\"Best Score:\", gcv_el.best_score_)"
   ]
  },
  {
   "cell_type": "code",
   "execution_count": null,
   "id": "5ee0387b-f8d6-4e15-b35a-3f2c09e3366b",
   "metadata": {},
   "outputs": [],
   "source": []
  }
 ],
 "metadata": {
  "kernelspec": {
   "display_name": "Python 3 (ipykernel)",
   "language": "python",
   "name": "python3"
  },
  "language_info": {
   "codemirror_mode": {
    "name": "ipython",
    "version": 3
   },
   "file_extension": ".py",
   "mimetype": "text/x-python",
   "name": "python",
   "nbconvert_exporter": "python",
   "pygments_lexer": "ipython3",
   "version": "3.12.4"
  }
 },
 "nbformat": 4,
 "nbformat_minor": 5
}
