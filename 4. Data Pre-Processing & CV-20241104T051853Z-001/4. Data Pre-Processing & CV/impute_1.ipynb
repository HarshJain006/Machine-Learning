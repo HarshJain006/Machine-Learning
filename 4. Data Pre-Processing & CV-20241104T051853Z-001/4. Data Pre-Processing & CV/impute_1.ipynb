{
 "cells": [
  {
   "cell_type": "code",
   "execution_count": 39,
   "id": "e3911dcb-8436-4b14-9e7a-388815ed2439",
   "metadata": {},
   "outputs": [],
   "source": [
    "import pandas as pd\n",
    "import pandas as pd\n",
    "from sklearn.linear_model import ElasticNet, LinearRegression\n",
    "import numpy as np\n",
    "from sklearn.impute import SimpleImputer\n",
    "from sklearn.metrics import r2_score \n",
    "from sklearn.pipeline import Pipeline\n",
    "from sklearn.model_selection import train_test_split"
   ]
  },
  {
   "cell_type": "code",
   "execution_count": 3,
   "id": "040eea83-bf16-45dc-a4eb-1114de65c2f9",
   "metadata": {},
   "outputs": [
    {
     "data": {
      "text/html": [
       "<div>\n",
       "<style scoped>\n",
       "    .dataframe tbody tr th:only-of-type {\n",
       "        vertical-align: middle;\n",
       "    }\n",
       "\n",
       "    .dataframe tbody tr th {\n",
       "        vertical-align: top;\n",
       "    }\n",
       "\n",
       "    .dataframe thead th {\n",
       "        text-align: right;\n",
       "    }\n",
       "</style>\n",
       "<table border=\"1\" class=\"dataframe\">\n",
       "  <thead>\n",
       "    <tr style=\"text-align: right;\">\n",
       "      <th></th>\n",
       "      <th>Yield</th>\n",
       "      <th>BiologicalMaterial01</th>\n",
       "      <th>BiologicalMaterial02</th>\n",
       "      <th>BiologicalMaterial03</th>\n",
       "      <th>BiologicalMaterial04</th>\n",
       "      <th>BiologicalMaterial05</th>\n",
       "      <th>BiologicalMaterial06</th>\n",
       "      <th>BiologicalMaterial07</th>\n",
       "      <th>BiologicalMaterial08</th>\n",
       "      <th>BiologicalMaterial09</th>\n",
       "      <th>...</th>\n",
       "      <th>ManufacturingProcess36</th>\n",
       "      <th>ManufacturingProcess37</th>\n",
       "      <th>ManufacturingProcess38</th>\n",
       "      <th>ManufacturingProcess39</th>\n",
       "      <th>ManufacturingProcess40</th>\n",
       "      <th>ManufacturingProcess41</th>\n",
       "      <th>ManufacturingProcess42</th>\n",
       "      <th>ManufacturingProcess43</th>\n",
       "      <th>ManufacturingProcess44</th>\n",
       "      <th>ManufacturingProcess45</th>\n",
       "    </tr>\n",
       "  </thead>\n",
       "  <tbody>\n",
       "    <tr>\n",
       "      <th>0</th>\n",
       "      <td>38.00</td>\n",
       "      <td>6.25</td>\n",
       "      <td>49.58</td>\n",
       "      <td>56.97</td>\n",
       "      <td>12.74</td>\n",
       "      <td>19.51</td>\n",
       "      <td>43.73</td>\n",
       "      <td>100.0</td>\n",
       "      <td>16.66</td>\n",
       "      <td>11.44</td>\n",
       "      <td>...</td>\n",
       "      <td>0.019</td>\n",
       "      <td>0.5</td>\n",
       "      <td>3</td>\n",
       "      <td>7.2</td>\n",
       "      <td>NaN</td>\n",
       "      <td>NaN</td>\n",
       "      <td>11.6</td>\n",
       "      <td>3.0</td>\n",
       "      <td>1.8</td>\n",
       "      <td>2.4</td>\n",
       "    </tr>\n",
       "    <tr>\n",
       "      <th>1</th>\n",
       "      <td>42.44</td>\n",
       "      <td>8.01</td>\n",
       "      <td>60.97</td>\n",
       "      <td>67.48</td>\n",
       "      <td>14.65</td>\n",
       "      <td>19.36</td>\n",
       "      <td>53.14</td>\n",
       "      <td>100.0</td>\n",
       "      <td>19.04</td>\n",
       "      <td>12.55</td>\n",
       "      <td>...</td>\n",
       "      <td>0.019</td>\n",
       "      <td>2.0</td>\n",
       "      <td>2</td>\n",
       "      <td>7.2</td>\n",
       "      <td>0.1</td>\n",
       "      <td>0.15</td>\n",
       "      <td>11.1</td>\n",
       "      <td>0.9</td>\n",
       "      <td>1.9</td>\n",
       "      <td>2.2</td>\n",
       "    </tr>\n",
       "    <tr>\n",
       "      <th>2</th>\n",
       "      <td>42.03</td>\n",
       "      <td>8.01</td>\n",
       "      <td>60.97</td>\n",
       "      <td>67.48</td>\n",
       "      <td>14.65</td>\n",
       "      <td>19.36</td>\n",
       "      <td>53.14</td>\n",
       "      <td>100.0</td>\n",
       "      <td>19.04</td>\n",
       "      <td>12.55</td>\n",
       "      <td>...</td>\n",
       "      <td>0.018</td>\n",
       "      <td>0.7</td>\n",
       "      <td>2</td>\n",
       "      <td>7.2</td>\n",
       "      <td>0.0</td>\n",
       "      <td>0.00</td>\n",
       "      <td>12.0</td>\n",
       "      <td>1.0</td>\n",
       "      <td>1.8</td>\n",
       "      <td>2.3</td>\n",
       "    </tr>\n",
       "  </tbody>\n",
       "</table>\n",
       "<p>3 rows × 58 columns</p>\n",
       "</div>"
      ],
      "text/plain": [
       "   Yield  BiologicalMaterial01  BiologicalMaterial02  BiologicalMaterial03  \\\n",
       "0  38.00                  6.25                 49.58                 56.97   \n",
       "1  42.44                  8.01                 60.97                 67.48   \n",
       "2  42.03                  8.01                 60.97                 67.48   \n",
       "\n",
       "   BiologicalMaterial04  BiologicalMaterial05  BiologicalMaterial06  \\\n",
       "0                 12.74                 19.51                 43.73   \n",
       "1                 14.65                 19.36                 53.14   \n",
       "2                 14.65                 19.36                 53.14   \n",
       "\n",
       "   BiologicalMaterial07  BiologicalMaterial08  BiologicalMaterial09  ...  \\\n",
       "0                 100.0                 16.66                 11.44  ...   \n",
       "1                 100.0                 19.04                 12.55  ...   \n",
       "2                 100.0                 19.04                 12.55  ...   \n",
       "\n",
       "   ManufacturingProcess36  ManufacturingProcess37  ManufacturingProcess38  \\\n",
       "0                   0.019                     0.5                       3   \n",
       "1                   0.019                     2.0                       2   \n",
       "2                   0.018                     0.7                       2   \n",
       "\n",
       "   ManufacturingProcess39  ManufacturingProcess40  ManufacturingProcess41  \\\n",
       "0                     7.2                     NaN                     NaN   \n",
       "1                     7.2                     0.1                    0.15   \n",
       "2                     7.2                     0.0                    0.00   \n",
       "\n",
       "   ManufacturingProcess42  ManufacturingProcess43  ManufacturingProcess44  \\\n",
       "0                    11.6                     3.0                     1.8   \n",
       "1                    11.1                     0.9                     1.9   \n",
       "2                    12.0                     1.0                     1.8   \n",
       "\n",
       "   ManufacturingProcess45  \n",
       "0                     2.4  \n",
       "1                     2.2  \n",
       "2                     2.3  \n",
       "\n",
       "[3 rows x 58 columns]"
      ]
     },
     "execution_count": 3,
     "metadata": {},
     "output_type": "execute_result"
    }
   ],
   "source": [
    "chem = pd.read_csv(\"C:/Python/Datasets/ChemicalProcess.csv\")\n",
    "chem.head(3)"
   ]
  },
  {
   "cell_type": "code",
   "execution_count": 9,
   "id": "8185f460-f9cb-4166-9f59-1209386b5365",
   "metadata": {},
   "outputs": [
    {
     "data": {
      "text/plain": [
       "106"
      ]
     },
     "execution_count": 9,
     "metadata": {},
     "output_type": "execute_result"
    }
   ],
   "source": [
    "chem.isnull().sum().sum()"
   ]
  },
  {
   "cell_type": "markdown",
   "id": "77769f68-5325-44ea-82c8-737b1d9de3d6",
   "metadata": {},
   "source": [
    "Constant Strategy"
   ]
  },
  {
   "cell_type": "code",
   "execution_count": 14,
   "id": "47cfc6ab-79a9-4412-a171-f430c21ce39f",
   "metadata": {},
   "outputs": [
    {
     "data": {
      "text/plain": [
       "0"
      ]
     },
     "execution_count": 14,
     "metadata": {},
     "output_type": "execute_result"
    }
   ],
   "source": [
    "imp_const = SimpleImputer(strategy='constant', fill_value=0.5).set_output(transform='pandas')\n",
    "chem_const = imp_const.fit_transform(chem)\n",
    "chem_const.isnull().sum().sum()"
   ]
  },
  {
   "cell_type": "markdown",
   "id": "0e823c3b-d24f-44a1-aca4-d6d946b7b6f2",
   "metadata": {},
   "source": [
    "Mean Strategy"
   ]
  },
  {
   "cell_type": "code",
   "execution_count": 22,
   "id": "dab42553-1249-4d55-a58a-4485d65efca0",
   "metadata": {},
   "outputs": [
    {
     "data": {
      "text/plain": [
       "0"
      ]
     },
     "execution_count": 22,
     "metadata": {},
     "output_type": "execute_result"
    }
   ],
   "source": [
    "imp_mean = SimpleImputer(strategy='mean').set_output(transform='pandas')\n",
    "chem_mean = imp_mean.fit_transform(chem)\n",
    "chem_mean.isnull().sum().sum()"
   ]
  },
  {
   "cell_type": "markdown",
   "id": "ad828e9b-bede-456c-97a8-da22623ed16c",
   "metadata": {},
   "source": [
    "`.fit()` calculates the mean / median according to the strategy. `.transform()` does the replacing of missing values with mean / median."
   ]
  },
  {
   "cell_type": "code",
   "execution_count": 28,
   "id": "0321f1dc-e493-437c-9dda-522a3a4daecf",
   "metadata": {},
   "outputs": [
    {
     "data": {
      "text/plain": [
       "array([ 4.01765341e+01,  6.41142045e+00,  5.56887500e+01,  6.77050000e+01,\n",
       "        1.23492614e+01,  1.85986364e+01,  4.89103977e+01,  1.00014148e+02,\n",
       "        1.74947727e+01,  1.28500568e+01,  2.80062500e+00,  1.46953182e+02,\n",
       "        2.01998864e+01,  1.12074286e+01,  1.66826590e+01,  1.53956522e+00,\n",
       "        9.31851429e+02,  1.00169314e+03,  2.07401724e+02,  1.77480000e+02,\n",
       "        1.77554286e+02,  4.56601136e+01,  9.17904192e+00,  9.38554217e+00,\n",
       "        8.57811429e+02,  3.45079545e+01,  4.85386857e+03,  6.03892045e+03,\n",
       "        4.56580114e+03,  3.43437500e+01,  4.80968182e+03,  6.02819886e+03,\n",
       "        4.55646023e+03, -1.64204545e-01,  5.40571429e+00,  3.01714286e+00,\n",
       "        8.83428571e+00,  4.82817544e+03,  6.01559649e+03,  4.56250877e+03,\n",
       "        6.59181287e+00,  2.00111111e+01,  9.16140351e+00,  7.01847953e+01,\n",
       "        1.58465909e+02,  6.35438596e+01,  2.49356725e+00,  4.95596491e+02,\n",
       "        1.95730994e-02,  1.01363636e+00,  2.53409091e+00,  6.85113636e+00,\n",
       "        1.77142857e-02,  2.37142857e-02,  1.12062500e+01,  9.11931818e-01,\n",
       "        1.80511364e+00,  2.13806818e+00])"
      ]
     },
     "execution_count": 28,
     "metadata": {},
     "output_type": "execute_result"
    }
   ],
   "source": [
    "imp_mean.statistics_"
   ]
  },
  {
   "cell_type": "markdown",
   "id": "20699921-077b-4668-ae1c-765d12ce9aa9",
   "metadata": {},
   "source": [
    "Median Strategy"
   ]
  },
  {
   "cell_type": "code",
   "execution_count": 32,
   "id": "1d2cdb69-d01b-46bb-999a-6385e8088ff6",
   "metadata": {},
   "outputs": [
    {
     "data": {
      "text/plain": [
       "0"
      ]
     },
     "execution_count": 32,
     "metadata": {},
     "output_type": "execute_result"
    }
   ],
   "source": [
    "imp_med = SimpleImputer(strategy='median').set_output(transform='pandas')\n",
    "chem_med = imp_med.fit_transform(chem)\n",
    "chem_med.isnull().sum().sum()"
   ]
  },
  {
   "cell_type": "code",
   "execution_count": 34,
   "id": "a2ca96c7-e917-4ddc-833e-0df367c91a39",
   "metadata": {},
   "outputs": [
    {
     "data": {
      "text/plain": [
       "array([ 3.9970e+01,  6.3050e+00,  5.5090e+01,  6.7220e+01,  1.2100e+01,\n",
       "        1.8490e+01,  4.8460e+01,  1.0000e+02,  1.7510e+01,  1.2835e+01,\n",
       "        2.7100e+00,  1.4608e+02,  2.0120e+01,  1.1400e+01,  2.1000e+01,\n",
       "        1.5400e+00,  9.3400e+02,  9.9920e+02,  2.0680e+02,  1.7700e+02,\n",
       "        1.7800e+02,  4.5730e+01,  9.1000e+00,  9.4000e+00,  0.0000e+00,\n",
       "        3.4600e+01,  4.8560e+03,  6.0315e+03,  4.5880e+03,  3.4400e+01,\n",
       "        4.8350e+03,  6.0220e+03,  4.5820e+03, -3.0000e-01,  5.0000e+00,\n",
       "        3.0000e+00,  8.0000e+00,  4.8550e+03,  6.0470e+03,  4.5870e+03,\n",
       "        1.0400e+01,  1.9900e+01,  9.1000e+00,  7.0800e+01,  1.5800e+02,\n",
       "        6.4000e+01,  2.5000e+00,  4.9500e+02,  2.0000e-02,  1.0000e+00,\n",
       "        3.0000e+00,  7.2000e+00,  0.0000e+00,  0.0000e+00,  1.1600e+01,\n",
       "        8.0000e-01,  1.9000e+00,  2.2000e+00])"
      ]
     },
     "execution_count": 34,
     "metadata": {},
     "output_type": "execute_result"
    }
   ],
   "source": [
    "imp_med.statistics_"
   ]
  },
  {
   "cell_type": "code",
   "execution_count": 42,
   "id": "098be30e-ba7a-415e-ad9d-782b84a6bf50",
   "metadata": {},
   "outputs": [],
   "source": [
    "X = chem.drop('Yield', axis=1)\n",
    "y = chem['Yield']\n",
    "X_train, X_test, y_train, y_test = train_test_split(X, y, random_state=24, test_size=0.3)"
   ]
  },
  {
   "cell_type": "code",
   "execution_count": 44,
   "id": "8eab5d24-2cef-4a86-973b-fc3671363f60",
   "metadata": {},
   "outputs": [
    {
     "name": "stdout",
     "output_type": "stream",
     "text": [
      "66\n",
      "40\n"
     ]
    }
   ],
   "source": [
    "print(X_train.isnull().sum().sum())\n",
    "print(X_test.isnull().sum().sum())"
   ]
  },
  {
   "cell_type": "markdown",
   "id": "ec3ce8de-d063-4a45-bbb4-4e816db0813d",
   "metadata": {},
   "source": [
    "`.fit()` and then `.transform()` or `.fit_transform()` should be applied only on train set. `.transform()` should be applied on test set."
   ]
  },
  {
   "cell_type": "markdown",
   "id": "5e80409f-2d03-481e-b4e9-06d603dd9741",
   "metadata": {},
   "source": [
    "### Mean Strategy"
   ]
  },
  {
   "cell_type": "code",
   "execution_count": 48,
   "id": "8b865b5d-7031-4f8b-aafb-c117e131f82f",
   "metadata": {},
   "outputs": [
    {
     "name": "stdout",
     "output_type": "stream",
     "text": [
      "0\n",
      "0\n"
     ]
    }
   ],
   "source": [
    "imp_mean = SimpleImputer(strategy='mean').set_output(transform='pandas')\n",
    "imp_mean.fit(X_train)\n",
    "X_imp_trn = imp_mean.transform(X_train)\n",
    "X_imp_tst = imp_mean.transform(X_test)\n",
    "print(X_imp_trn.isnull().sum().sum())\n",
    "print(X_imp_tst.isnull().sum().sum())"
   ]
  },
  {
   "cell_type": "markdown",
   "id": "7125e3c1-db33-48fb-9951-658b9d0a242f",
   "metadata": {},
   "source": [
    "OR"
   ]
  },
  {
   "cell_type": "code",
   "execution_count": 51,
   "id": "4faf13b7-c0f2-40b4-be6c-2ba6b51121ac",
   "metadata": {},
   "outputs": [
    {
     "name": "stdout",
     "output_type": "stream",
     "text": [
      "0\n",
      "0\n"
     ]
    }
   ],
   "source": [
    "X_imp_trn = imp_mean.fit_transform(X_train)\n",
    "X_imp_tst = imp_mean.transform(X_test)\n",
    "print(X_imp_trn.isnull().sum().sum())\n",
    "print(X_imp_tst.isnull().sum().sum())"
   ]
  },
  {
   "cell_type": "code",
   "execution_count": null,
   "id": "6f433900-bda7-43ed-a5a0-ebd0af13f3c5",
   "metadata": {},
   "outputs": [],
   "source": []
  }
 ],
 "metadata": {
  "kernelspec": {
   "display_name": "Python 3 (ipykernel)",
   "language": "python",
   "name": "python3"
  },
  "language_info": {
   "codemirror_mode": {
    "name": "ipython",
    "version": 3
   },
   "file_extension": ".py",
   "mimetype": "text/x-python",
   "name": "python",
   "nbconvert_exporter": "python",
   "pygments_lexer": "ipython3",
   "version": "3.12.4"
  }
 },
 "nbformat": 4,
 "nbformat_minor": 5
}
